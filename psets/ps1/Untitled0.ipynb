{
 "metadata": {
  "name": "",
  "signature": "sha256:dda063d34aa6af54e34dc656c6f7d9a4c800776b23f7b5d0377cd012468b34f8"
 },
 "nbformat": 3,
 "nbformat_minor": 0,
 "worksheets": []
}