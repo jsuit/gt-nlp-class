{
 "metadata": {
  "name": "",
  "signature": "sha256:a5ceb8a62932e21f8b87638daa3c7a54bab43c8ed1cb745e09b48d9a1e704163"
 },
 "nbformat": 3,
 "nbformat_minor": 0,
 "worksheets": [
  {
   "cells": [
    {
     "cell_type": "code",
     "collapsed": false,
     "input": [
      "from nltk.tokenize import word_tokenize, sent_tokenize\n",
      "from collections import defaultdict, Counter\n",
      "from matplotlib import pyplot as plt\n",
      "import numpy as np\n",
      "import scorer\n",
      "import operator"
     ],
     "language": "python",
     "metadata": {},
     "outputs": [],
     "prompt_number": 1
    },
    {
     "cell_type": "code",
     "collapsed": false,
     "input": [
      "def docsToBOWs(keyfile):\n",
      "    with open(keyfile,'r') as keys:\n",
      "        with open(keyfile.replace('.key','.bow'),'w') as outfile:\n",
      "            for keyline in keys:\n",
      "                dataloc = keyline.rstrip().split(' ')[0]\n",
      "                fcounts = defaultdict(int)\n",
      "                with open(dataloc,'r') as infile:\n",
      "                    for line in infile: \n",
      "                        for s in sent_tokenize(line):\n",
      "                            for w in word_tokenize(s):\n",
      "                                word = w.lower()\n",
      "                                if word.isalpha():\n",
      "                                    fcounts[word] += 1\n",
      "                for word,count in fcounts.items():\n",
      "                    print >>outfile,\"{}:{}\".format(word,count), #write the word and its count to a line\n",
      "                print >>outfile,\"\""
     ],
     "language": "python",
     "metadata": {},
     "outputs": [],
     "prompt_number": 2
    },
    {
     "cell_type": "code",
     "collapsed": false,
     "input": [
      "trainkey = 'train-imdb.key'\n",
      "devkey = 'dev-imdb.key'\n",
      "testkey = 'test-imdb.key'"
     ],
     "language": "python",
     "metadata": {},
     "outputs": [],
     "prompt_number": 3
    },
    {
     "cell_type": "code",
     "collapsed": false,
     "input": [
      "docsToBOWs(trainkey)\n",
      "docsToBOWs(devkey)\n",
      "# docsToBOWs('test-imdb.key') # you won't have this file yet"
     ],
     "language": "python",
     "metadata": {},
     "outputs": [],
     "prompt_number": 4
    },
    {
     "cell_type": "code",
     "collapsed": false,
     "input": [
      "offset = '**OFFSET**'\n",
      "\n",
      "def dataIterator(keyfile):\n",
      "    with open(keyfile.replace('key','bow'),'r') as bows:\n",
      "        with open(keyfile,'r') as keys:\n",
      "            for keyline in keys:\n",
      "                textloc,label = keyline.rstrip().split(' ')\n",
      "                fcounts = {word:int(count) for word,count in\\\n",
      "                           [x.split(':') for x in bows.readline().rstrip().split(' ')]}\n",
      "                fcounts[offset] = 1\n",
      "                yield fcounts,label"
     ],
     "language": "python",
     "metadata": {},
     "outputs": [],
     "prompt_number": 5
    },
    {
     "cell_type": "code",
     "collapsed": false,
     "input": [],
     "language": "python",
     "metadata": {},
     "outputs": [],
     "prompt_number": 5
    },
    {
     "cell_type": "code",
     "collapsed": false,
     "input": [
      "def getAllCounts(datait):\n",
      "    allcounts = Counter()\n",
      "    for fcounts,_ in datait:\n",
      "        allcounts += Counter(fcounts)\n",
      "    return allcounts\n",
      "dataIterator('train-imdb.key')\n",
      "ac_train = getAllCounts(dataIterator('train-imdb.key'))\n",
      "ac_dev = getAllCounts(dataIterator('dev-imdb.key'))\n",
      "#ac_test = getAllCounts(dataIterator('test-imdb.key'))\n",
      "print sum(ac_train.values())\n",
      "print \"number of word types\",len(ac_train.keys())-1"
     ],
     "language": "python",
     "metadata": {},
     "outputs": [
      {
       "output_type": "stream",
       "stream": "stdout",
       "text": [
        "<built-in method values of Counter object at 0x109a83de0>\n",
        "number of word types 24861\n"
       ]
      }
     ],
     "prompt_number": 71
    },
    {
     "cell_type": "code",
     "collapsed": false,
     "input": [
      "%pylab inline"
     ],
     "language": "python",
     "metadata": {},
     "outputs": [
      {
       "output_type": "stream",
       "stream": "stdout",
       "text": [
        "466337\n",
        "Populating the interactive namespace from numpy and matplotlib\n"
       ]
      },
      {
       "output_type": "stream",
       "stream": "stderr",
       "text": [
        "WARNING: pylab import has clobbered these variables: ['mat', 'argmax', 'unique']\n",
        "`%pylab --no-import-all` prevents importing * from pylab and numpy\n"
       ]
      }
     ],
     "prompt_number": 72
    },
    {
     "cell_type": "code",
     "collapsed": false,
     "input": [
      "tr_logcounts = np.log(np.array(sorted(ac_train.values(),reverse=True)))\n",
      "plt.plot(np.log(range(len(tr_logcounts))),tr_logcounts)\n",
      "dv_logcounts = np.log(np.array(sorted(ac_dev.values(),reverse=True)))\n",
      "plt.plot(np.log(range(len(dv_logcounts))),dv_logcounts,'r')\n",
      "plt.xlabel('log rank')\n",
      "plt.ylabel('log count')"
     ],
     "language": "python",
     "metadata": {},
     "outputs": [
      {
       "output_type": "stream",
       "stream": "stderr",
       "text": [
        "-c:2: RuntimeWarning: divide by zero encountered in log\n",
        "-c:4: RuntimeWarning: divide by zero encountered in log\n"
       ]
      },
      {
       "metadata": {},
       "output_type": "pyout",
       "prompt_number": 8,
       "text": [
        "<matplotlib.text.Text at 0x10aeb3b90>"
       ]
      },
      {
       "metadata": {},
       "output_type": "display_data",
       "png": "[encoded data removed]",
       "text": [
        "<matplotlib.figure.Figure at 0x102cc1b50>"
       ]
      }
     ],
     "prompt_number": 8
    },
    {
     "cell_type": "markdown",
     "metadata": {},
     "source": [
      "We see the rank plotted against the count in log space. In the middle (where it looks linear) we see Zipf's law in action. However, it does not follow Zipf's law the more you head towards the \"tails\" of the graph."
     ]
    },
    {
     "cell_type": "code",
     "collapsed": false,
     "input": [
      "type_train = len(ac_train.keys())\n",
      "type_test = len(ac_dev.keys())\n",
      "train_token=sum(ac_train.values())\n",
      "dev_token=sum(ac_dev.values())\n",
      "print 'The train token/type ratio is %f and the dev_token/dev_type ratio is %f' % (train_token/float(type_train),\\\n",
      "                                                                                   dev_token/float(type_test))"
     ],
     "language": "python",
     "metadata": {},
     "outputs": [
      {
       "output_type": "stream",
       "stream": "stdout",
       "text": [
        "The train token/type ratio is 18.757019 and the dev_token/dev_type ratio is 13.245252\n"
       ]
      }
     ],
     "prompt_number": 9
    },
    {
     "cell_type": "markdown",
     "metadata": {},
     "source": [
      "train token/type ratio = 18.757019 and dev_token/dev_type ratio is 13.245252"
     ]
    },
    {
     "cell_type": "code",
     "collapsed": false,
     "input": [
      "unique_type_train = [key for key,value in ac_train.items() if value == 1]\n",
      "unique_type_dev = [key for key,value in ac_dev.items() if value == 1]\n",
      "unique = len(set(unique_type_train + unique_type_dev))\n",
      "print 'The number of unique types that occur in both train and dev data is %d' % (unique)"
     ],
     "language": "python",
     "metadata": {},
     "outputs": [
      {
       "output_type": "stream",
       "stream": "stdout",
       "text": [
        "The number of unique types that occur in both train and dev data is 17233\n"
       ]
      }
     ],
     "prompt_number": 10
    },
    {
     "cell_type": "code",
     "collapsed": false,
     "input": [
      "dev_types = ac_dev.keys()\n",
      "train_types = ac_train.keys()\n",
      "print 'The number of types that appear in dev_data but not train_data is %d' %(len(set(dev_types) - set(train_types)))"
     ],
     "language": "python",
     "metadata": {},
     "outputs": [
      {
       "output_type": "stream",
       "stream": "stdout",
       "text": [
        "The number of types that appear in dev_data but not train_data is 4796\n"
       ]
      }
     ],
     "prompt_number": 11
    },
    {
     "cell_type": "code",
     "collapsed": false,
     "input": [
      "poswords = set()\n",
      "negwords = set()\n",
      "with open('sentiment-vocab.tff','r') as fin:\n",
      "    for i,line in enumerate(fin):\n",
      "        # more list and dict comprehensions!\n",
      "        kvs = {key:val for key,val in [kvp.split('=') for kvp in line.split() if '=' in kvp]}\n",
      "        if kvs['type'] == 'strongsubj':\n",
      "            if kvs['priorpolarity'] == 'negative':\n",
      "                negwords.add(kvs['word1'])\n",
      "            if kvs['priorpolarity'] == 'positive':\n",
      "                poswords.add(kvs['word1'])"
     ],
     "language": "python",
     "metadata": {},
     "outputs": [],
     "prompt_number": 12
    },
    {
     "cell_type": "code",
     "collapsed": false,
     "input": [
      "def predict(instance,weights,labels):\n",
      "    tempscores = []\n",
      "    for label in labels:\n",
      "            w_dict = {feature[1]: value for feature,value in weights.items() if feature[0]==label}\n",
      "            new_inst_dict = {feature: value for feature,value in instance.items() if feature in w_dict}\n",
      "            \n",
      "            #if len(set(new_inst_dict) - set(w_dict)) != 0 or len(set(w_dict) - set(new_inst_dict)) !=0:\n",
      "               # print 'Problem'\n",
      "                #print set(new_inst_dict) - set(w_dict)\n",
      "               # print set(w_dict)-set(new_inst_dict) \n",
      "            tempscores.append((label,sum([w_dict[feature]*new_inst_dict[feature] for feature in new_inst_dict])))\n",
      "    tempscores.sort(key=lambda t: t[1],reverse=True)\n",
      "    scores = [tempscores[0][0]]\n",
      "    for i in xrange(0,len(tempscores)):\n",
      "        scores.append(tempscores[i])\n",
      "    return scores\n",
      "    # return the highest-scoring label, and the scores for all labels"
     ],
     "language": "python",
     "metadata": {},
     "outputs": [],
     "prompt_number": 13
    },
    {
     "cell_type": "code",
     "collapsed": false,
     "input": [
      "# use this to find the highest-scoring label\n",
      "argmax = lambda x : max(x.iteritems(),key=operator.itemgetter(1))[0]"
     ],
     "language": "python",
     "metadata": {},
     "outputs": [],
     "prompt_number": 14
    },
    {
     "cell_type": "code",
     "collapsed": false,
     "input": [
      "def evalClassifier(weights,outfilename,testfile=devkey):    \n",
      "    with open(outfilename,'w') as outfile: #open the output file\n",
      "        for counts,label in dataIterator(testfile): #iterate through eval set\n",
      "            #print counts,label \n",
      "            print >>outfile, predict(counts,weights,all_labels)[0] #print prediction to file\n",
      "    return scorer.getConfusion(testfile,outfilename) #run the scorer on the prediction file"
     ],
     "language": "python",
     "metadata": {},
     "outputs": [],
     "prompt_number": 83
    },
    {
     "cell_type": "code",
     "collapsed": false,
     "input": [
      "all_labels = ['POS','NEG','NEU']\n",
      "#weights_all_pos = defaultdict(int)\n",
      "#weights_all_pos.update({('POS',offset):1,('NEG',offset):0,('NEU',offset):0})"
     ],
     "language": "python",
     "metadata": {},
     "outputs": [],
     "prompt_number": 16
    },
    {
     "cell_type": "code",
     "collapsed": false,
     "input": [
      "#mat = evalClassifier(weights_all_pos,'all_pos.txt')\n",
      "#print scorer.printScoreMessage(mat)"
     ],
     "language": "python",
     "metadata": {},
     "outputs": [],
     "prompt_number": 17
    },
    {
     "cell_type": "code",
     "collapsed": false,
     "input": [
      "pwords = poswords\n",
      "ngwords = negwords\n",
      "weights_list = defaultdict(float)\n",
      "\n",
      "def setWeights():\n",
      "    for word in pwords:\n",
      "            weights_list[('POS', word)] = 1\n",
      "            weights_list[('NEG', word)] = -1\n",
      "    for word in ngwords:\n",
      "            weights_list[('NEG', word)] = 1\n",
      "            weights_list[('POS', word)] = -1\n",
      "    for label in all_labels:\n",
      "            weights_list[('POS', offset)] = .5\n",
      "            weights_list[('NEG', offset)] = .5\n",
      "            weights_list[('NEU', offset)] = 1\n",
      "\n",
      "setWeights()\n",
      "\n"
     ],
     "language": "python",
     "metadata": {},
     "outputs": [],
     "prompt_number": 18
    },
    {
     "cell_type": "code",
     "collapsed": false,
     "input": [
      "mat = evalClassifier(weights_list,'word_list.txt')\n",
      "print scorer.printScoreMessage(mat)"
     ],
     "language": "python",
     "metadata": {},
     "outputs": [
      {
       "output_type": "stream",
       "stream": "stdout",
       "text": [
        "3 classes in key: set(['NEG', 'NEU', 'POS'])\n",
        "3 classes in response: set(['NEG', 'NEU', 'POS'])\n",
        "confusion matrix\n",
        "key\\response:\tNEG\tNEU\tPOS\n",
        "NEG\t\t204\t28\t169\t\n",
        "NEU\t\t58\t9\t125\t\n",
        "POS\t\t40\t21\t346\t\n",
        "----------------\n",
        "accuracy: 0.5590 = 559/1000\n",
        "\n",
        "None\n"
       ]
      }
     ],
     "prompt_number": 19
    },
    {
     "cell_type": "code",
     "collapsed": false,
     "input": [
      "from itertools import chain\n",
      "# compute the word counts first, because this can be slow\n",
      "# you may also wish to keep a list of all word types that are observed in the training data\n",
      "counts = defaultdict(lambda : Counter()) # hint\n",
      "class_counts = defaultdict(int) # hint\n",
      "word_type = set()\n",
      "\n",
      "\n",
      "def getWordCountsWithLabelIt(datait):\n",
      "    for fcounts,label in datait:\n",
      "        yield fcounts,label\n",
      "    \n",
      "def getWordCountsLabels(It):\n",
      "        for fcounts,label in It:\n",
      "            counts[label] += Counter(fcounts)\n",
      "            class_counts[label] +=1\n",
      "\n",
      "\n",
      "getWordCountsLabels(getWordCountsWithLabelIt(dataIterator('train-imdb.key')))\n",
      "\n",
      "for label in counts:\n",
      "    for fcounts in counts[label]:\n",
      "        word_type.add(fcounts)\n",
      "\n",
      "def getTotalWords(datait):\n",
      "    run_sum=0\n",
      "    for fcounts,_ in datait:\n",
      "        run_sum+= sum(fcounts.values())\n",
      "    return run_sum\n",
      "\n",
      "totalWords = getTotalWords(dataIterator('train-imdb.key'))        \n",
      "pos_sum = 0\n",
      "neg_sum = 0\n",
      "neu_sum = 0\n",
      "for label in counts:\n",
      "    if label == 'POS':\n",
      "        pos_sum = sum(counts['POS'].values())\n",
      "    if label == 'NEG':\n",
      "        neg_sum = sum(counts['NEG'].values())\n",
      "    else:\n",
      "        neu_sum = sum(counts['NEU'].values())\n",
      "\n",
      "    \n",
      "    "
     ],
     "language": "python",
     "metadata": {},
     "outputs": [],
     "prompt_number": 239
    },
    {
     "cell_type": "code",
     "collapsed": false,
     "input": [
      "import math\n",
      "def learnNBWeights(alpha=0.1):\n",
      "    # your code here\n",
      "    weights = defaultdict(float)\n",
      "    for word in word_type:\n",
      "        run_sum_over_labels = 0\n",
      "        for label in counts:\n",
      "            if word == offset:\n",
      "                #P(y)\n",
      "                weights[(label,offset)] = math.log(float(class_counts[label])/sum(class_counts.values()))\n",
      "            else:\n",
      "                run_sum_over_labels+=counts[label][word]\n",
      "                weights[(label,word)] = counts[label][word]+alpha\n",
      "        for label in counts:\n",
      "                if word != offset:\n",
      "                    if label == 'POS':\n",
      "                        weights[(label,word)] /= float(pos_sum)\n",
      "                    elif label == 'NEG':\n",
      "                        weights[(label,word)] /=float(neg_sum)\n",
      "                    elif label == 'NEU':\n",
      "                        weights[(label,word)] /= float(neu_sum)\n",
      "                    weights[(label,word)] = math.log(((weights[(label,word)])/float((run_sum_over_labels+totalWords*alpha))))\n",
      "    \n",
      "    return weights\n",
      "\n"
     ],
     "language": "python",
     "metadata": {},
     "outputs": [
      {
       "output_type": "stream",
       "stream": "stdout",
       "text": [
        "\n"
       ]
      }
     ],
     "prompt_number": 227
    },
    {
     "cell_type": "code",
     "collapsed": false,
     "input": [
      "weights_nb = learnNBWeights(alpha=0.1)\n",
      "#print weights_nb"
     ],
     "language": "python",
     "metadata": {},
     "outputs": [],
     "prompt_number": 228
    },
    {
     "cell_type": "code",
     "collapsed": false,
     "input": [
      "predict({'good':1,'worst':4,offset:1},weights_nb,all_labels)"
     ],
     "language": "python",
     "metadata": {},
     "outputs": [
      {
       "metadata": {},
       "output_type": "pyout",
       "prompt_number": 229,
       "text": [
        "['NEG',\n",
        " ('NEG', -88.494869369414403),\n",
        " ('NEU', -94.352329398030818),\n",
        " ('POS', -98.048561073080577)]"
       ]
      }
     ],
     "prompt_number": 229
    },
    {
     "cell_type": "code",
     "collapsed": false,
     "input": [
      "mat = evalClassifier(weights_nb,'nb.txt')\n",
      "print scorer.printScoreMessage(mat)"
     ],
     "language": "python",
     "metadata": {},
     "outputs": [
      {
       "output_type": "stream",
       "stream": "stdout",
       "text": [
        "3 classes in key: set(['NEG', 'NEU', 'POS'])\n",
        "3 classes in response: set(['NEG', 'NEU', 'POS'])\n",
        "confusion matrix\n",
        "key\\response:\tNEG\tNEU\tPOS\n",
        "NEG\t\t326\t35\t40\t\n",
        "NEU\t\t85\t46\t61\t\n",
        "POS\t\t76\t58\t273\t\n",
        "----------------\n",
        "accuracy: 0.6450 = 645/1000\n",
        "\n",
        "None\n"
       ]
      }
     ],
     "prompt_number": 230
    },
    {
     "cell_type": "code",
     "collapsed": false,
     "input": [
      "tr_accs = []\n",
      "dv_accs = []\n",
      "alphas = [.01, .05, .10, .25, .50, 1, 10 ]\n",
      "weights_nb_alphas = dict()\n",
      "for alpha in alphas:\n",
      "    print alpha,\n",
      "    # learn the weights\n",
      "    weights_nb_alphas[alpha] = learnNBWeights(alpha) \n",
      "    # evaluate on training data\n",
      "    confusion = evalClassifier(weights_nb_alphas[alpha],'nb.alpha.tr.txt',trainkey)\n",
      "    tr_accs.append(scorer.accuracy(confusion))\n",
      "    # evaluate on dev data\n",
      "    confusion = evalClassifier(weights_nb_alphas[alpha],'nb.alpha.dv.txt',devkey)\n",
      "    dv_accs.append(scorer.accuracy(confusion))\n",
      "    print dv_accs[-1]"
     ],
     "language": "python",
     "metadata": {},
     "outputs": []
    },
    {
     "cell_type": "code",
     "collapsed": false,
     "input": [
      "subplot(1,2,1)\n",
      "plot(log(alphas),tr_accs,'bx-')\n",
      "ylabel('training accuracy')\n",
      "subplot(1,2,2)\n",
      "plot(log(alphas),dv_accs,'rx-')\n",
      "ylabel('dev. accuracy')"
     ],
     "language": "python",
     "metadata": {},
     "outputs": [
      {
       "metadata": {},
       "output_type": "pyout",
       "prompt_number": 233,
       "text": [
        "<matplotlib.text.Text at 0x10b9b8a10>"
       ]
      },
      {
       "metadata": {},
       "output_type": "display_data",
       "png": "[encoded data removed]",
       "text": [
        "<matplotlib.figure.Figure at 0x10c337790>"
       ]
      }
     ],
     "prompt_number": 233
    },
    {
     "cell_type": "code",
     "collapsed": false,
     "input": [
      "maximum = []\n",
      "maxi = -100\n",
      "def getTopFeats(weights,class1,class2,K=5):\n",
      "    #$\\log \\theta_{pos,n} - \\log \\theta_{neg,n}$\n",
      "    for word in word_type:\n",
      "        s = weights[('POS', word)] - weights[('NEG',word)] \n",
      "        \n",
      "        if len(maximum) != 5:\n",
      "            maximum.append((word,s))\n",
      "        else:\n",
      "            if min(maximum, key = lambda t: t[1])[1] <= s:\n",
      "                maximum.remove(min(maximum, key = lambda t: t[1]))\n",
      "                maximum.append((word,s))\n",
      "    return maximum        \n",
      "\n",
      "\n",
      "print getTopFeats(weights_nb_alphas[1],'POS','NEG')\n",
      "        "
     ],
     "language": "python",
     "metadata": {},
     "outputs": [
      {
       "output_type": "stream",
       "stream": "stdout",
       "text": [
        "[('spock', 5.063265912890401), ('tarzan', 5.22490726444682), ('arnold', 5.003006721372209), ('yokai', 5.173875784434372), ('friendship', 5.273460489863812)]\n"
       ]
      }
     ],
     "prompt_number": 283
    },
    {
     "cell_type": "code",
     "collapsed": false,
     "input": [],
     "language": "python",
     "metadata": {},
     "outputs": [],
     "prompt_number": 260
    },
    {
     "cell_type": "code",
     "collapsed": false,
     "input": [],
     "language": "python",
     "metadata": {},
     "outputs": []
    }
   ],
   "metadata": {}
  }
 ]
}